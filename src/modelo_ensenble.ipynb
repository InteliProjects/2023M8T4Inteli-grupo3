{
  "nbformat": 4,
  "nbformat_minor": 0,
  "metadata": {
    "colab": {
      "provenance": []
    },
    "kernelspec": {
      "name": "python3",
      "display_name": "Python 3"
    },
    "language_info": {
      "name": "python"
    }
  },
  "cells": [
    {
      "cell_type": "markdown",
      "source": [
        "# Importação de dependencias\n"
      ],
      "metadata": {
        "id": "5iJviglAdM2L"
      }
    },
    {
      "cell_type": "code",
      "source": [
        "import pandas as pd\n",
        "import seaborn as sns\n",
        "import matplotlib.pyplot as plt\n",
        "import numpy as np\n",
        "from sklearn.preprocessing import MinMaxScaler\n",
        "import ast\n",
        "from statsmodels.tsa.statespace.sarimax import SARIMAX\n",
        "from statsmodels.graphics.tsaplots import plot_acf, plot_pacf\n",
        "from statsmodels.tsa.stattools import adfuller\n",
        "from sklearn.model_selection import train_test_split\n",
        "from sklearn.metrics import mean_squared_error"
      ],
      "metadata": {
        "id": "MXRilapOdSUS"
      },
      "execution_count": null,
      "outputs": []
    },
    {
      "cell_type": "code",
      "source": [
        "from google.colab import drive\n",
        "drive.mount('/content/drive')"
      ],
      "metadata": {
        "colab": {
          "base_uri": "https://localhost:8080/"
        },
        "id": "itcufyNdaxpR",
        "outputId": "6a4c9536-4831-4dac-87cb-62239cbb69e0"
      },
      "execution_count": null,
      "outputs": [
        {
          "output_type": "stream",
          "name": "stdout",
          "text": [
            "Drive already mounted at /content/drive; to attempt to forcibly remount, call drive.mount(\"/content/drive\", force_remount=True).\n"
          ]
        }
      ]
    },
    {
      "cell_type": "markdown",
      "source": [
        "# importação api parceiro\n"
      ],
      "metadata": {
        "id": "OnBn7YtLqUqL"
      }
    },
    {
      "cell_type": "code",
      "source": [
        "api_parceiro = \"/content/drive/Shareddrives/M8-G3/Dados/api parceiro/dados_api_sale.csv\""
      ],
      "metadata": {
        "id": "JhVuAA5yqfby"
      },
      "execution_count": null,
      "outputs": []
    },
    {
      "cell_type": "code",
      "source": [
        "df_api = pd.read_csv(api_parceiro)"
      ],
      "metadata": {
        "id": "ysurxjAxqn6m"
      },
      "execution_count": null,
      "outputs": []
    },
    {
      "cell_type": "code",
      "source": [
        "df_api_reg_lin = df_api"
      ],
      "metadata": {
        "id": "QtyrjpMsvoOL"
      },
      "execution_count": null,
      "outputs": []
    },
    {
      "cell_type": "code",
      "source": [
        "columns_to_drop = ['id', 'cnpj', 'idCategory', 'amount', 'category']\n",
        "df_api_reg_lin = df_api_reg_lin.drop(columns=columns_to_drop, errors='ignore')"
      ],
      "metadata": {
        "id": "nm9shB2VvXsY"
      },
      "execution_count": null,
      "outputs": []
    },
    {
      "cell_type": "markdown",
      "source": [
        "No dataframe que usaremos da API do parceiro, deixaremos apenas as colunas que iremos usar para a criação do modelo de regressão linear, no caso: 'saleDate' e 'value'."
      ],
      "metadata": {
        "id": "kB2CuXjlKnDP"
      }
    },
    {
      "cell_type": "code",
      "source": [
        "df_api_reg_lin"
      ],
      "metadata": {
        "colab": {
          "base_uri": "https://localhost:8080/",
          "height": 423
        },
        "id": "m8Zymdz3J3WR",
        "outputId": "c884f38b-5789-4a9c-f826-13f1fe3522fa"
      },
      "execution_count": null,
      "outputs": [
        {
          "output_type": "execute_result",
          "data": {
            "text/plain": [
              "                      saleDate  value\n",
              "0      2023-10-06T00:00:10.117  495.0\n",
              "1       2023-10-06T00:00:10.21  946.0\n",
              "2       2023-10-06T00:00:10.21  906.0\n",
              "3       2023-10-06T00:00:10.21  789.0\n",
              "4       2023-10-06T00:00:10.21  240.0\n",
              "...                        ...    ...\n",
              "34235  2023-12-05T00:00:09.807  213.0\n",
              "34236  2023-12-05T00:00:09.807  557.0\n",
              "34237  2023-12-05T00:00:09.807  250.0\n",
              "34238  2023-12-05T00:00:09.807  849.0\n",
              "34239  2023-12-05T00:00:09.807  362.0\n",
              "\n",
              "[34240 rows x 2 columns]"
            ],
            "text/html": [
              "\n",
              "  <div id=\"df-7d820bc9-cacf-4c4c-9d37-81f9e3697f55\" class=\"colab-df-container\">\n",
              "    <div>\n",
              "<style scoped>\n",
              "    .dataframe tbody tr th:only-of-type {\n",
              "        vertical-align: middle;\n",
              "    }\n",
              "\n",
              "    .dataframe tbody tr th {\n",
              "        vertical-align: top;\n",
              "    }\n",
              "\n",
              "    .dataframe thead th {\n",
              "        text-align: right;\n",
              "    }\n",
              "</style>\n",
              "<table border=\"1\" class=\"dataframe\">\n",
              "  <thead>\n",
              "    <tr style=\"text-align: right;\">\n",
              "      <th></th>\n",
              "      <th>saleDate</th>\n",
              "      <th>value</th>\n",
              "    </tr>\n",
              "  </thead>\n",
              "  <tbody>\n",
              "    <tr>\n",
              "      <th>0</th>\n",
              "      <td>2023-10-06T00:00:10.117</td>\n",
              "      <td>495.0</td>\n",
              "    </tr>\n",
              "    <tr>\n",
              "      <th>1</th>\n",
              "      <td>2023-10-06T00:00:10.21</td>\n",
              "      <td>946.0</td>\n",
              "    </tr>\n",
              "    <tr>\n",
              "      <th>2</th>\n",
              "      <td>2023-10-06T00:00:10.21</td>\n",
              "      <td>906.0</td>\n",
              "    </tr>\n",
              "    <tr>\n",
              "      <th>3</th>\n",
              "      <td>2023-10-06T00:00:10.21</td>\n",
              "      <td>789.0</td>\n",
              "    </tr>\n",
              "    <tr>\n",
              "      <th>4</th>\n",
              "      <td>2023-10-06T00:00:10.21</td>\n",
              "      <td>240.0</td>\n",
              "    </tr>\n",
              "    <tr>\n",
              "      <th>...</th>\n",
              "      <td>...</td>\n",
              "      <td>...</td>\n",
              "    </tr>\n",
              "    <tr>\n",
              "      <th>34235</th>\n",
              "      <td>2023-12-05T00:00:09.807</td>\n",
              "      <td>213.0</td>\n",
              "    </tr>\n",
              "    <tr>\n",
              "      <th>34236</th>\n",
              "      <td>2023-12-05T00:00:09.807</td>\n",
              "      <td>557.0</td>\n",
              "    </tr>\n",
              "    <tr>\n",
              "      <th>34237</th>\n",
              "      <td>2023-12-05T00:00:09.807</td>\n",
              "      <td>250.0</td>\n",
              "    </tr>\n",
              "    <tr>\n",
              "      <th>34238</th>\n",
              "      <td>2023-12-05T00:00:09.807</td>\n",
              "      <td>849.0</td>\n",
              "    </tr>\n",
              "    <tr>\n",
              "      <th>34239</th>\n",
              "      <td>2023-12-05T00:00:09.807</td>\n",
              "      <td>362.0</td>\n",
              "    </tr>\n",
              "  </tbody>\n",
              "</table>\n",
              "<p>34240 rows × 2 columns</p>\n",
              "</div>\n",
              "    <div class=\"colab-df-buttons\">\n",
              "\n",
              "  <div class=\"colab-df-container\">\n",
              "    <button class=\"colab-df-convert\" onclick=\"convertToInteractive('df-7d820bc9-cacf-4c4c-9d37-81f9e3697f55')\"\n",
              "            title=\"Convert this dataframe to an interactive table.\"\n",
              "            style=\"display:none;\">\n",
              "\n",
              "  <svg xmlns=\"http://www.w3.org/2000/svg\" height=\"24px\" viewBox=\"0 -960 960 960\">\n",
              "    <path d=\"M120-120v-720h720v720H120Zm60-500h600v-160H180v160Zm220 220h160v-160H400v160Zm0 220h160v-160H400v160ZM180-400h160v-160H180v160Zm440 0h160v-160H620v160ZM180-180h160v-160H180v160Zm440 0h160v-160H620v160Z\"/>\n",
              "  </svg>\n",
              "    </button>\n",
              "\n",
              "  <style>\n",
              "    .colab-df-container {\n",
              "      display:flex;\n",
              "      gap: 12px;\n",
              "    }\n",
              "\n",
              "    .colab-df-convert {\n",
              "      background-color: #E8F0FE;\n",
              "      border: none;\n",
              "      border-radius: 50%;\n",
              "      cursor: pointer;\n",
              "      display: none;\n",
              "      fill: #1967D2;\n",
              "      height: 32px;\n",
              "      padding: 0 0 0 0;\n",
              "      width: 32px;\n",
              "    }\n",
              "\n",
              "    .colab-df-convert:hover {\n",
              "      background-color: #E2EBFA;\n",
              "      box-shadow: 0px 1px 2px rgba(60, 64, 67, 0.3), 0px 1px 3px 1px rgba(60, 64, 67, 0.15);\n",
              "      fill: #174EA6;\n",
              "    }\n",
              "\n",
              "    .colab-df-buttons div {\n",
              "      margin-bottom: 4px;\n",
              "    }\n",
              "\n",
              "    [theme=dark] .colab-df-convert {\n",
              "      background-color: #3B4455;\n",
              "      fill: #D2E3FC;\n",
              "    }\n",
              "\n",
              "    [theme=dark] .colab-df-convert:hover {\n",
              "      background-color: #434B5C;\n",
              "      box-shadow: 0px 1px 3px 1px rgba(0, 0, 0, 0.15);\n",
              "      filter: drop-shadow(0px 1px 2px rgba(0, 0, 0, 0.3));\n",
              "      fill: #FFFFFF;\n",
              "    }\n",
              "  </style>\n",
              "\n",
              "    <script>\n",
              "      const buttonEl =\n",
              "        document.querySelector('#df-7d820bc9-cacf-4c4c-9d37-81f9e3697f55 button.colab-df-convert');\n",
              "      buttonEl.style.display =\n",
              "        google.colab.kernel.accessAllowed ? 'block' : 'none';\n",
              "\n",
              "      async function convertToInteractive(key) {\n",
              "        const element = document.querySelector('#df-7d820bc9-cacf-4c4c-9d37-81f9e3697f55');\n",
              "        const dataTable =\n",
              "          await google.colab.kernel.invokeFunction('convertToInteractive',\n",
              "                                                    [key], {});\n",
              "        if (!dataTable) return;\n",
              "\n",
              "        const docLinkHtml = 'Like what you see? Visit the ' +\n",
              "          '<a target=\"_blank\" href=https://colab.research.google.com/notebooks/data_table.ipynb>data table notebook</a>'\n",
              "          + ' to learn more about interactive tables.';\n",
              "        element.innerHTML = '';\n",
              "        dataTable['output_type'] = 'display_data';\n",
              "        await google.colab.output.renderOutput(dataTable, element);\n",
              "        const docLink = document.createElement('div');\n",
              "        docLink.innerHTML = docLinkHtml;\n",
              "        element.appendChild(docLink);\n",
              "      }\n",
              "    </script>\n",
              "  </div>\n",
              "\n",
              "\n",
              "<div id=\"df-d3a8eb85-222a-4668-a3c5-42b0986691c5\">\n",
              "  <button class=\"colab-df-quickchart\" onclick=\"quickchart('df-d3a8eb85-222a-4668-a3c5-42b0986691c5')\"\n",
              "            title=\"Suggest charts\"\n",
              "            style=\"display:none;\">\n",
              "\n",
              "<svg xmlns=\"http://www.w3.org/2000/svg\" height=\"24px\"viewBox=\"0 0 24 24\"\n",
              "     width=\"24px\">\n",
              "    <g>\n",
              "        <path d=\"M19 3H5c-1.1 0-2 .9-2 2v14c0 1.1.9 2 2 2h14c1.1 0 2-.9 2-2V5c0-1.1-.9-2-2-2zM9 17H7v-7h2v7zm4 0h-2V7h2v10zm4 0h-2v-4h2v4z\"/>\n",
              "    </g>\n",
              "</svg>\n",
              "  </button>\n",
              "\n",
              "<style>\n",
              "  .colab-df-quickchart {\n",
              "      --bg-color: #E8F0FE;\n",
              "      --fill-color: #1967D2;\n",
              "      --hover-bg-color: #E2EBFA;\n",
              "      --hover-fill-color: #174EA6;\n",
              "      --disabled-fill-color: #AAA;\n",
              "      --disabled-bg-color: #DDD;\n",
              "  }\n",
              "\n",
              "  [theme=dark] .colab-df-quickchart {\n",
              "      --bg-color: #3B4455;\n",
              "      --fill-color: #D2E3FC;\n",
              "      --hover-bg-color: #434B5C;\n",
              "      --hover-fill-color: #FFFFFF;\n",
              "      --disabled-bg-color: #3B4455;\n",
              "      --disabled-fill-color: #666;\n",
              "  }\n",
              "\n",
              "  .colab-df-quickchart {\n",
              "    background-color: var(--bg-color);\n",
              "    border: none;\n",
              "    border-radius: 50%;\n",
              "    cursor: pointer;\n",
              "    display: none;\n",
              "    fill: var(--fill-color);\n",
              "    height: 32px;\n",
              "    padding: 0;\n",
              "    width: 32px;\n",
              "  }\n",
              "\n",
              "  .colab-df-quickchart:hover {\n",
              "    background-color: var(--hover-bg-color);\n",
              "    box-shadow: 0 1px 2px rgba(60, 64, 67, 0.3), 0 1px 3px 1px rgba(60, 64, 67, 0.15);\n",
              "    fill: var(--button-hover-fill-color);\n",
              "  }\n",
              "\n",
              "  .colab-df-quickchart-complete:disabled,\n",
              "  .colab-df-quickchart-complete:disabled:hover {\n",
              "    background-color: var(--disabled-bg-color);\n",
              "    fill: var(--disabled-fill-color);\n",
              "    box-shadow: none;\n",
              "  }\n",
              "\n",
              "  .colab-df-spinner {\n",
              "    border: 2px solid var(--fill-color);\n",
              "    border-color: transparent;\n",
              "    border-bottom-color: var(--fill-color);\n",
              "    animation:\n",
              "      spin 1s steps(1) infinite;\n",
              "  }\n",
              "\n",
              "  @keyframes spin {\n",
              "    0% {\n",
              "      border-color: transparent;\n",
              "      border-bottom-color: var(--fill-color);\n",
              "      border-left-color: var(--fill-color);\n",
              "    }\n",
              "    20% {\n",
              "      border-color: transparent;\n",
              "      border-left-color: var(--fill-color);\n",
              "      border-top-color: var(--fill-color);\n",
              "    }\n",
              "    30% {\n",
              "      border-color: transparent;\n",
              "      border-left-color: var(--fill-color);\n",
              "      border-top-color: var(--fill-color);\n",
              "      border-right-color: var(--fill-color);\n",
              "    }\n",
              "    40% {\n",
              "      border-color: transparent;\n",
              "      border-right-color: var(--fill-color);\n",
              "      border-top-color: var(--fill-color);\n",
              "    }\n",
              "    60% {\n",
              "      border-color: transparent;\n",
              "      border-right-color: var(--fill-color);\n",
              "    }\n",
              "    80% {\n",
              "      border-color: transparent;\n",
              "      border-right-color: var(--fill-color);\n",
              "      border-bottom-color: var(--fill-color);\n",
              "    }\n",
              "    90% {\n",
              "      border-color: transparent;\n",
              "      border-bottom-color: var(--fill-color);\n",
              "    }\n",
              "  }\n",
              "</style>\n",
              "\n",
              "  <script>\n",
              "    async function quickchart(key) {\n",
              "      const quickchartButtonEl =\n",
              "        document.querySelector('#' + key + ' button');\n",
              "      quickchartButtonEl.disabled = true;  // To prevent multiple clicks.\n",
              "      quickchartButtonEl.classList.add('colab-df-spinner');\n",
              "      try {\n",
              "        const charts = await google.colab.kernel.invokeFunction(\n",
              "            'suggestCharts', [key], {});\n",
              "      } catch (error) {\n",
              "        console.error('Error during call to suggestCharts:', error);\n",
              "      }\n",
              "      quickchartButtonEl.classList.remove('colab-df-spinner');\n",
              "      quickchartButtonEl.classList.add('colab-df-quickchart-complete');\n",
              "    }\n",
              "    (() => {\n",
              "      let quickchartButtonEl =\n",
              "        document.querySelector('#df-d3a8eb85-222a-4668-a3c5-42b0986691c5 button');\n",
              "      quickchartButtonEl.style.display =\n",
              "        google.colab.kernel.accessAllowed ? 'block' : 'none';\n",
              "    })();\n",
              "  </script>\n",
              "</div>\n",
              "    </div>\n",
              "  </div>\n"
            ]
          },
          "metadata": {},
          "execution_count": 213
        }
      ]
    },
    {
      "cell_type": "markdown",
      "source": [
        "Agora nós iremos usar a biblioteca SARIMAX criar o modelo de regressão linear e a biblioteca matplotlib para plotar os gráficos.\n",
        "\n",
        "O primeiro gráfico é uma série temporal do valor dos produtos vendidos ao longo do ano de 2023. Em seguida temos o segundo gráfico referente à previsões do modelo SARIMAX para o período seguinte comparado ao teste do modelo."
      ],
      "metadata": {
        "id": "VNYGltDzLIM2"
      }
    },
    {
      "cell_type": "code",
      "source": [
        "df_api_reg_lin['saleDate'] = pd.to_datetime(df_api_reg_lin['saleDate'])\n",
        "df_api_reg_lin.set_index('saleDate', inplace=True)\n",
        "\n",
        "df_api_reg_lin = df_api_reg_lin[~((df_api_reg_lin.index.month == 12) & (df_api_reg_lin.index.year == 2023))]\n",
        "df_api_reg_lin = df_api_reg_lin.groupby(df_api_reg_lin.index).filter(lambda x: len(x) > 1)\n",
        "\n",
        "df_monthly = df_api_reg_lin.resample('M').sum()\n",
        "\n",
        "df_monthly['value'].plot(figsize=(12, 6))\n",
        "plt.title('Série Temporal de Vendas (Mensalmente)')\n",
        "plt.show()\n",
        "\n",
        "result = adfuller(df_monthly['value'])\n",
        "print('ADF Statistic:', result[0])\n",
        "print('p-value:', result[1])\n",
        "print('Critical Values:', result[4])\n",
        "\n",
        "if result[1] > 0.05:\n",
        "    df_monthly_diff = df_monthly.diff().dropna()\n",
        "    df_monthly_diff['value'].plot(figsize=(12, 6))\n",
        "    plt.title('Série Temporal Diferenciada (Mensalmente)')\n",
        "    plt.show()\n",
        "\n",
        "train_size = int(len(df_monthly) * 0.8)\n",
        "train, test = df_monthly.iloc[:train_size], df_monthly.iloc[train_size:]\n",
        "\n",
        "order = (1, 1, 1)\n",
        "seasonal_order = (1, 1, 1, 11)\n",
        "\n",
        "model = SARIMAX(train['value'], order=order, seasonal_order=seasonal_order)\n",
        "result = model.fit(disp=False)\n",
        "\n",
        "start = len(train)\n",
        "end = start + len(test) - 1\n",
        "predictions = result.predict(start=start, end=end, dynamic=False, typ='levels')\n",
        "\n",
        "mse = mean_squared_error(test['value'], predictions)\n",
        "print('Mean Squared Error:', mse)\n",
        "\n",
        "plt.figure(figsize=(12, 6))\n",
        "plt.plot(train.index, train['value'], label='Treino')\n",
        "plt.plot(test.index, test['value'], label='Teste')\n",
        "plt.plot(test.index, predictions, label='Previsões')\n",
        "plt.legend()\n",
        "plt.title('Previsões do Modelo SARIMAX (Mensalmente)')\n",
        "plt.xlabel('Data')\n",
        "plt.ylabel('Valor')\n",
        "\n",
        "plt.show()"
      ],
      "metadata": {
        "colab": {
          "base_uri": "https://localhost:8080/",
          "height": 633
        },
        "id": "OedJ_QOP8Wgz",
        "outputId": "b889c0f0-fadf-4492-936b-6b968d12f92a"
      },
      "execution_count": null,
      "outputs": [
        {
          "output_type": "display_data",
          "data": {
            "text/plain": [
              "<Figure size 1200x600 with 1 Axes>"
            ],
            "image/png": "[encoded data removed]"
          },
          "metadata": {}
        },
        {
          "output_type": "stream",
          "name": "stdout",
          "text": [
            "ADF Statistic: -4.285922700335052\n",
            "p-value: 0.0004698182939428058\n",
            "Critical Values: {'1%': -4.331573, '5%': -3.23295, '10%': -2.7487}\n"
          ]
        }
      ]
    }
  ]
}